{
 "cells": [
  {
   "cell_type": "code",
   "execution_count": 1,
   "metadata": {},
   "outputs": [],
   "source": [
    "import time\n",
    "import shutil\n",
    "import requests\n",
    "import threading\n",
    "import multiprocessing\n",
    "import concurrent"
   ]
  },
  {
   "cell_type": "markdown",
   "metadata": {},
   "source": [
    "## Prints thread name and sleeps for 2 seconds"
   ]
  },
  {
   "cell_type": "code",
   "execution_count": 2,
   "metadata": {},
   "outputs": [],
   "source": [
    "def sleep_fun():\n",
    "    print(\"\\nInner: starting\",threading.current_thread().name)\n",
    "    time.sleep(2)\n",
    "    print(\"\\nInner: ending\",threading.current_thread().name)"
   ]
  },
  {
   "cell_type": "markdown",
   "metadata": {},
   "source": [
    "## Runs the function"
   ]
  },
  {
   "cell_type": "code",
   "execution_count": 3,
   "metadata": {},
   "outputs": [
    {
     "name": "stdout",
     "output_type": "stream",
     "text": [
      "\n",
      "Main: Start\n",
      "\n",
      "Inner: starting MainThread\n",
      "\n",
      "Inner: ending MainThread\n",
      "\n",
      "Main: End\n"
     ]
    }
   ],
   "source": [
    "print(\"\\nMain: Start\")\n",
    "sleep_fun()\n",
    "print(\"\\nMain: End\")"
   ]
  },
  {
   "cell_type": "markdown",
   "metadata": {},
   "source": [
    "## Shows that the thread will execute independent of the main thread"
   ]
  },
  {
   "cell_type": "code",
   "execution_count": 4,
   "metadata": {},
   "outputs": [
    {
     "name": "stdout",
     "output_type": "stream",
     "text": [
      "\n",
      "Main: MainThread\n",
      "\n",
      "Inner: starting Thread-4\n",
      "\n",
      "Main: Finished Executing, or has it?\n"
     ]
    }
   ],
   "source": [
    "t1 = threading.Thread(target=sleep_fun)\n",
    "print(\"\\nMain:\", threading.current_thread().name)\n",
    "t1.start()\n",
    "print(\"\\nMain: Finished Executing, or has it?\")"
   ]
  },
  {
   "cell_type": "markdown",
   "metadata": {},
   "source": [
    "## Execute async using join()"
   ]
  },
  {
   "cell_type": "code",
   "execution_count": 5,
   "metadata": {},
   "outputs": [
    {
     "name": "stdout",
     "output_type": "stream",
     "text": [
      "\n",
      "Inner: starting Thread-5\n",
      "\n",
      "Inner: ending Thread-4\n",
      "\n",
      "Inner: ending Thread-5\n",
      "\n",
      "Main: MainThread\n",
      "\n",
      "Main: Finished Executing, yes it has!\n"
     ]
    }
   ],
   "source": [
    "t1 = threading.Thread(target=sleep_fun)\n",
    "t1.start()\n",
    "t1.join()\n",
    "print(\"\\nMain:\", threading.current_thread().name)\n",
    "print(\"\\nMain: Finished Executing, yes it has!\")"
   ]
  },
  {
   "cell_type": "markdown",
   "metadata": {},
   "source": [
    "## Run an daemon which stops when the main thread stops (doesn't work in Jupyter as the kernal is always running)"
   ]
  },
  {
   "cell_type": "code",
   "execution_count": 6,
   "metadata": {},
   "outputs": [],
   "source": [
    "# def fun_loop():\n",
    "# while True:\n",
    "# print(\"Monitoring............\")\n",
    "# time.sleep(1)\n",
    "# t1 = threading.Thread(target=fun_loop, daemon=True)\n",
    "# t1.start()\n",
    "# print(\"\\nMain: Finished Executing\")"
   ]
  },
  {
   "cell_type": "markdown",
   "metadata": {},
   "source": [
    "## A simple program fact(num) that runs a multiplication to time how long it takes\n"
   ]
  },
  {
   "cell_type": "code",
   "execution_count": 7,
   "metadata": {},
   "outputs": [],
   "source": [
    "def fact(num):\n",
    "    start = time.time()\n",
    "    x = 1\n",
    "    for i in range(1, num):\n",
    "        x *= i\n",
    "    time.sleep(1)\n",
    "    stop = time.time() - start\n",
    "    print(f'time elapsed {stop}')"
   ]
  },
  {
   "cell_type": "code",
   "execution_count": 8,
   "metadata": {},
   "outputs": [
    {
     "name": "stdout",
     "output_type": "stream",
     "text": [
      "time elapsed 1.0057408809661865\n",
      "time elapsed 1.004962682723999\n",
      "time elapsed 1.0047054290771484\n",
      "time elapsed 1.004662036895752\n",
      "time elapsed 1.0045740604400635\n",
      "Total time elapsed is 5.025342226028442\n"
     ]
    }
   ],
   "source": [
    "start = time.time()\n",
    "for i in range(5):\n",
    "    fact(5000)\n",
    "stop = time.time() - start\n",
    "print(f'Total time elapsed is {stop}')"
   ]
  },
  {
   "cell_type": "markdown",
   "metadata": {},
   "source": [
    "## Register threads"
   ]
  },
  {
   "cell_type": "code",
   "execution_count": 9,
   "metadata": {},
   "outputs": [
    {
     "name": "stdout",
     "output_type": "stream",
     "text": [
      "registering thread 0\n",
      "registering thread 1\n",
      "registering thread 2\n"
     ]
    }
   ],
   "source": [
    "threads = []\n",
    "num_threads = 3\n",
    "for i in range(num_threads):\n",
    "    print(f'registering thread {i}')\n",
    "    t = threading.Thread(target=fact, args=(50000,))\n",
    "    threads.append(t)\n"
   ]
  },
  {
   "cell_type": "markdown",
   "metadata": {},
   "source": [
    "## Start the threads and join them, so they run sync"
   ]
  },
  {
   "cell_type": "code",
   "execution_count": 10,
   "metadata": {},
   "outputs": [
    {
     "name": "stdout",
     "output_type": "stream",
     "text": [
      "time elapsed 2.255537748336792\n",
      "time elapsed 2.2595696449279785\n",
      "time elapsed 2.31152606010437\n",
      "Total time elapsed is 2.3121461868286133\n"
     ]
    }
   ],
   "source": [
    "start = time.time()\n",
    "for t in threads:\n",
    "    t.start()\n",
    "for t in threads:\n",
    "    t.join()\n",
    "stop = time.time() - start\n",
    "print(f'Total time elapsed is {stop}')\n"
   ]
  },
  {
   "cell_type": "markdown",
   "metadata": {},
   "source": [
    "## Using concurrent.futures to do the same thing in half the code, which runs twice as fast"
   ]
  },
  {
   "cell_type": "code",
   "execution_count": 11,
   "metadata": {},
   "outputs": [
    {
     "name": "stdout",
     "output_type": "stream",
     "text": [
      "time elapsed 1.004532814025879\n",
      "time elapsed 1.0047590732574463\n",
      "time elapsed 1.004699468612671\n",
      "Total time elapsed is 1.0139708518981934\n"
     ]
    }
   ],
   "source": [
    "from concurrent import futures\n",
    "import time\n",
    "start = time.time()\n",
    "with futures.ThreadPoolExecutor() as executer:\n",
    "    results = [executer.submit(fact, 5000) for i in range(3)]\n",
    "stop = time.time() - start\n",
    "print(f'Total time elapsed is {stop}')"
   ]
  },
  {
   "cell_type": "code",
   "execution_count": 12,
   "metadata": {},
   "outputs": [],
   "source": [
    "photos = [\n",
    "    'https://unsplash.com/photos/LxaorEDmI3c/download?force=true',\n",
    "    'https://unsplash.com/photos/4rDCa5hBlCs/download?force=true',\n",
    "    'https://unsplash.com/photos/jFCViYFYcus/download?force=true',\n",
    "    'https://unsplash.com/photos/EwKXn5CapA4/download?force=true',\n",
    "    'https://unsplash.com/photos/1Z2niiBPg5A/download?force=true',\n",
    "    'https://unsplash.com/photos/G15G-Any-D0/download?force=true',\n",
    "    'https://unsplash.com/photos/01_igFr7hd4/download?force=true',\n",
    "    'https://unsplash.com/photos/78A265wPi04/download?force=true',\n",
    "    'https://unsplash.com/photos/tGTVxe0r_Rs/download?force=true',\n",
    "    'https://unsplash.com/photos/hFzIoD0F_i8/download?force=true',\n",
    "]"
   ]
  },
  {
   "cell_type": "markdown",
   "metadata": {},
   "source": [
    "## Example of downloading images"
   ]
  },
  {
   "cell_type": "code",
   "execution_count": 13,
   "metadata": {},
   "outputs": [
    {
     "name": "stdout",
     "output_type": "stream",
     "text": [
      "boxed-water-is-better-LxaorEDmI3c-unsplash.jpg\n"
     ]
    }
   ],
   "source": [
    "response = requests.get(photos[0])\n",
    "fname = response.headers['Content-Disposition'].split('filename=')[-1].replace('\"', '')\n",
    "print(fname)"
   ]
  },
  {
   "cell_type": "code",
   "execution_count": 14,
   "metadata": {},
   "outputs": [],
   "source": [
    "with open('images/' + fname, 'wb') as fs:\n",
    "    fs.write(response.content)\n"
   ]
  },
  {
   "cell_type": "code",
   "execution_count": 15,
   "metadata": {},
   "outputs": [],
   "source": [
    "from pathlib import Path\n",
    "def download_image(image):\n",
    "    response = requests.get(image)\n",
    "    if 'Content-Disposition' in response.headers:\n",
    "        fname = response.headers['Content-Disposition'].split('filename=')[-1].replace('\"', '')\n",
    "        Path('./images').mkdir(exist_ok=True)\n",
    "        fname = './images/' + fname\n",
    "        with open(fname, 'wb') as fs:\n",
    "            print(fname)\n",
    "            fs.write(response.content)\n"
   ]
  },
  {
   "cell_type": "markdown",
   "metadata": {},
   "source": [
    "## Using no parralelism"
   ]
  },
  {
   "cell_type": "code",
   "execution_count": 16,
   "metadata": {},
   "outputs": [
    {
     "name": "stdout",
     "output_type": "stream",
     "text": [
      "./images/boxed-water-is-better-LxaorEDmI3c-unsplash.jpg\n",
      "./images/casey-horner-4rDCa5hBlCs-unsplash.jpg\n",
      "./images/lukasz-szmigiel-jFCViYFYcus-unsplash.jpg\n",
      "./images/jeremy-bishop-EwKXn5CapA4-unsplash.jpg\n",
      "./images/v2osk-1Z2niiBPg5A-unsplash.jpg\n",
      "./images/boxed-water-is-better-G15G-Any-D0-unsplash.jpg\n",
      "./images/qingbao-meng-01_igFr7hd4-unsplash.jpg\n",
      "./images/luca-bravo-hFzIoD0F_i8-unsplash.jpg\n",
      "Total elapsed time 10.94765591621399\n"
     ]
    }
   ],
   "source": [
    "import time\n",
    "import requests\n",
    "start = time.time()\n",
    "r = map(download_image, photos)\n",
    "for i in r:\n",
    "    pass\n",
    "stop = time.time() - start\n",
    "print(f'Total elapsed time {stop}')\n"
   ]
  },
  {
   "cell_type": "markdown",
   "metadata": {},
   "source": [
    "## Using concurrent.futures"
   ]
  },
  {
   "cell_type": "code",
   "execution_count": 17,
   "metadata": {},
   "outputs": [
    {
     "name": "stdout",
     "output_type": "stream",
     "text": [
      "./images/boxed-water-is-better-G15G-Any-D0-unsplash.jpg\n",
      "./images/casey-horner-4rDCa5hBlCs-unsplash.jpg\n",
      "./images/jeremy-bishop-EwKXn5CapA4-unsplash.jpg\n",
      "./images/boxed-water-is-better-LxaorEDmI3c-unsplash.jpg\n",
      "./images/lukasz-szmigiel-jFCViYFYcus-unsplash.jpg\n",
      "./images/qingbao-meng-01_igFr7hd4-unsplash.jpg\n",
      "./images/luca-bravo-hFzIoD0F_i8-unsplash.jpg\n",
      "./images/v2osk-1Z2niiBPg5A-unsplash.jpg\n",
      "Total elapsed time 1.871138572692871\n"
     ]
    }
   ],
   "source": [
    "from concurrent.futures import ThreadPoolExecutor\n",
    "start = time.time()\n",
    "with ThreadPoolExecutor() as executor:\n",
    "    executor.map(download_image, photos)\n",
    "stop = time.time() - start\n",
    "print(f'Total elapsed time {stop}')\n"
   ]
  },
  {
   "cell_type": "markdown",
   "metadata": {},
   "source": [
    "## Example of locking used with threading"
   ]
  },
  {
   "cell_type": "code",
   "execution_count": 41,
   "metadata": {},
   "outputs": [],
   "source": [
    "class Course:\n",
    "    def __init__(self):\n",
    "        self.num_student = 0\n",
    "\n",
    "    def add_student(self, name, lock):\n",
    "        print(f'Start adding student --> Thread {name}')\n",
    "        with lock:\n",
    "            time.sleep(1)\n",
    "            my_num_student = self.num_student\n",
    "            my_num_student += 1\n",
    "            self.num_student = my_num_student\n",
    "        print(f'Finished adding student --> Thread {name}')"
   ]
  },
  {
   "cell_type": "code",
   "execution_count": 42,
   "metadata": {},
   "outputs": [
    {
     "name": "stdout",
     "output_type": "stream",
     "text": [
      "students: 0\n",
      "Start adding student --> Thread 0\n",
      "Start adding student --> Thread 1\n",
      "students: 0\n"
     ]
    }
   ],
   "source": [
    "from concurrent.futures import ThreadPoolExecutor\n",
    "import threading\n",
    "cs1 = Course()\n",
    "lock = threading.Lock()\n",
    "print(f'students: {cs1.num_student}')\n",
    "with ThreadPoolExecutor(max_workers=2) as executer:\n",
    "    for i in range(2):\n",
    "        executer.submit(cs1.add_student, i, lock)\n",
    "print(f'students: {cs1.num_student}')"
   ]
  },
  {
   "cell_type": "code",
   "execution_count": null,
   "metadata": {},
   "outputs": [],
   "source": []
  }
 ],
 "metadata": {
  "kernelspec": {
   "display_name": "Python 3.9.1 64-bit",
   "metadata": {
    "interpreter": {
     "hash": "4e1d9a8909477db77738c33245c29c7265277ef753467dede8cf3f814cde494e"
    }
   },
   "name": "python3"
  },
  "language_info": {
   "codemirror_mode": {
    "name": "ipython",
    "version": 3
   },
   "file_extension": ".py",
   "mimetype": "text/x-python",
   "name": "python",
   "nbconvert_exporter": "python",
   "pygments_lexer": "ipython3",
   "version": "3.9.1"
  },
  "orig_nbformat": 2
 },
 "nbformat": 4,
 "nbformat_minor": 2
}